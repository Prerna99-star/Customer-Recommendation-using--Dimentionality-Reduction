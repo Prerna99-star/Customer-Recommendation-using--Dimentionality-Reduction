{
  "nbformat": 4,
  "nbformat_minor": 0,
  "metadata": {
    "colab": {
      "name": "Copy of LDA.ipynb",
      "provenance": [],
      "authorship_tag": "ABX9TyMG8I79pUimFqo6hp+MXp8p",
      "include_colab_link": true
    },
    "kernelspec": {
      "name": "python3",
      "display_name": "Python 3"
    }
  },
  "cells": [
    {
      "cell_type": "markdown",
      "metadata": {
        "id": "view-in-github",
        "colab_type": "text"
      },
      "source": [
        "<a href=\"https://colab.research.google.com/github/Prerna99-star/Customer-Recommendation-using-PCA/blob/master/Copy_of_LDA.ipynb\" target=\"_parent\"><img src=\"https://colab.research.google.com/assets/colab-badge.svg\" alt=\"Open In Colab\"/></a>"
      ]
    },
    {
      "cell_type": "code",
      "metadata": {
        "id": "q_eC4jguCblY",
        "colab_type": "code",
        "colab": {}
      },
      "source": [
        "import numpy as np\n",
        "import matplotlib.pyplot as plt\n",
        "import pandas as pd"
      ],
      "execution_count": 0,
      "outputs": []
    },
    {
      "cell_type": "code",
      "metadata": {
        "id": "M1qwarXBHqF9",
        "colab_type": "code",
        "colab": {
          "base_uri": "https://localhost:8080/",
          "height": 459
        },
        "outputId": "a22eff8d-ba03-4e98-f981-2ffb2dc15c33"
      },
      "source": [
        "# Importing the dataset\n",
        "dataset = pd.read_csv('Wine.csv')\n",
        "X = dataset.iloc[:, 0:13].values\n",
        "y = dataset.iloc[:, 13].values\n",
        "print(dataset)\n",
        "print(X)\n",
        "print(y)"
      ],
      "execution_count": 28,
      "outputs": [
        {
          "output_type": "stream",
          "text": [
            "     Alcohol  Malic_Acid   Ash  ...  OD280  Proline  Customer_Segment\n",
            "0      14.23        1.71  2.43  ...   3.92     1065                 1\n",
            "1      13.20        1.78  2.14  ...   3.40     1050                 1\n",
            "2      13.16        2.36  2.67  ...   3.17     1185                 1\n",
            "3      14.37        1.95  2.50  ...   3.45     1480                 1\n",
            "4      13.24        2.59  2.87  ...   2.93      735                 1\n",
            "..       ...         ...   ...  ...    ...      ...               ...\n",
            "173    13.71        5.65  2.45  ...   1.74      740                 3\n",
            "174    13.40        3.91  2.48  ...   1.56      750                 3\n",
            "175    13.27        4.28  2.26  ...   1.56      835                 3\n",
            "176    13.17        2.59  2.37  ...   1.62      840                 3\n",
            "177    14.13        4.10  2.74  ...   1.60      560                 3\n",
            "\n",
            "[178 rows x 14 columns]\n",
            "[[1.423e+01 1.710e+00 2.430e+00 ... 1.040e+00 3.920e+00 1.065e+03]\n",
            " [1.320e+01 1.780e+00 2.140e+00 ... 1.050e+00 3.400e+00 1.050e+03]\n",
            " [1.316e+01 2.360e+00 2.670e+00 ... 1.030e+00 3.170e+00 1.185e+03]\n",
            " ...\n",
            " [1.327e+01 4.280e+00 2.260e+00 ... 5.900e-01 1.560e+00 8.350e+02]\n",
            " [1.317e+01 2.590e+00 2.370e+00 ... 6.000e-01 1.620e+00 8.400e+02]\n",
            " [1.413e+01 4.100e+00 2.740e+00 ... 6.100e-01 1.600e+00 5.600e+02]]\n",
            "[1 1 1 1 1 1 1 1 1 1 1 1 1 1 1 1 1 1 1 1 1 1 1 1 1 1 1 1 1 1 1 1 1 1 1 1 1\n",
            " 1 1 1 1 1 1 1 1 1 1 1 1 1 1 1 1 1 1 1 1 1 1 2 2 2 2 2 2 2 2 2 2 2 2 2 2 2\n",
            " 2 2 2 2 2 2 2 2 2 2 2 2 2 2 2 2 2 2 2 2 2 2 2 2 2 2 2 2 2 2 2 2 2 2 2 2 2\n",
            " 2 2 2 2 2 2 2 2 2 2 2 2 2 2 2 2 2 2 2 3 3 3 3 3 3 3 3 3 3 3 3 3 3 3 3 3 3\n",
            " 3 3 3 3 3 3 3 3 3 3 3 3 3 3 3 3 3 3 3 3 3 3 3 3 3 3 3 3 3 3]\n"
          ],
          "name": "stdout"
        }
      ]
    },
    {
      "cell_type": "code",
      "metadata": {
        "id": "7sM7invpHuE3",
        "colab_type": "code",
        "colab": {}
      },
      "source": [
        "# Splitting the dataset into the Training set and Test set\n",
        "from sklearn.model_selection import train_test_split\n",
        "X_train, X_test, y_train, y_test = train_test_split(X, y, test_size = 0.25, random_state = 0)\n",
        "\n"
      ],
      "execution_count": 0,
      "outputs": []
    },
    {
      "cell_type": "code",
      "metadata": {
        "id": "nInIbMkOHxzb",
        "colab_type": "code",
        "colab": {
          "base_uri": "https://localhost:8080/",
          "height": 238
        },
        "outputId": "3e96ccd7-4937-4a8e-8c76-b61f59827bc1"
      },
      "source": [
        "# Feature Scaling\n",
        "from sklearn.preprocessing import StandardScaler\n",
        "sc = StandardScaler()\n",
        "X_train = sc.fit_transform(X_train)\n",
        "X_test = sc.transform(X_test)\n",
        "print(X_train)\n"
      ],
      "execution_count": 30,
      "outputs": [
        {
          "output_type": "stream",
          "text": [
            "[[ 0.79996869  0.63400362  0.71783316 ...  0.05445565  1.0713277\n",
            "   0.31500451]\n",
            " [-0.49875982  0.06171955 -0.61072701 ... -0.93473577 -1.39249704\n",
            "  -0.18138885]\n",
            " [-1.29797736 -1.16332605 -0.24168252 ...  0.18348062  0.75296832\n",
            "   0.45068536]\n",
            " ...\n",
            " [-0.72353975 -0.69834524 -0.64763146 ...  0.48453887  0.51765922\n",
            "  -1.33964004]\n",
            " [ 1.12465081 -0.63575167 -0.90596261 ... -0.16058596  1.02980256\n",
            "   0.77830498]\n",
            " [ 1.44933294  0.10642924  0.42259757 ... -1.40782731 -1.21255479\n",
            "  -0.29721397]]\n"
          ],
          "name": "stdout"
        }
      ]
    },
    {
      "cell_type": "code",
      "metadata": {
        "id": "vyRsMtqUH3aF",
        "colab_type": "code",
        "colab": {
          "base_uri": "https://localhost:8080/",
          "height": 1000
        },
        "outputId": "1e2371d2-be54-4d3e-8776-e617f2b414d0"
      },
      "source": [
        "# Applying LDA\n",
        "from sklearn.discriminant_analysis import LinearDiscriminantAnalysis as LDA\n",
        "lda = LDA(n_components = 2)\n",
        "X_train = lda.fit_transform(X_train, y_train)\n",
        "X_test = lda.transform(X_test)\n",
        "print(X_train)\n"
      ],
      "execution_count": 31,
      "outputs": [
        {
          "output_type": "stream",
          "text": [
            "[[-3.75722986e+00  1.78224173e+00]\n",
            " [ 3.71779979e+00  8.55757484e-01]\n",
            " [-4.41722893e-02 -2.02249034e+00]\n",
            " [ 3.50295061e+00  1.99910076e+00]\n",
            " [-3.87566163e+00  2.65077482e+00]\n",
            " [ 3.31635950e+00  7.26729526e-01]\n",
            " [ 3.76757806e+00  1.03585429e+00]\n",
            " [-3.50642318e+00  1.01134789e-01]\n",
            " [ 5.56617679e+00  2.31052117e+00]\n",
            " [-5.52600002e+00  6.92702501e-01]\n",
            " [ 3.34933278e-01 -3.89801248e+00]\n",
            " [ 4.83234812e+00  3.19745682e+00]\n",
            " [ 3.43511567e+00  9.59123009e-01]\n",
            " [-1.06452054e+00 -2.32005170e+00]\n",
            " [ 3.47410738e+00  6.35730414e-01]\n",
            " [ 5.06710351e+00  2.38898005e+00]\n",
            " [-2.95021113e+00  1.13904083e+00]\n",
            " [ 1.87126516e+00 -4.32025549e-01]\n",
            " [ 3.96376090e+00 -1.85802042e-01]\n",
            " [-9.49159879e-01 -3.32074700e+00]\n",
            " [ 1.84114933e+00 -5.83464878e-01]\n",
            " [ 3.17380882e+00  1.49403616e+00]\n",
            " [-4.69174963e-01 -1.18843006e+00]\n",
            " [-4.01401200e+00  1.22643116e+00]\n",
            " [ 2.41908539e+00 -2.41633744e+00]\n",
            " [-1.19274638e+00 -2.30261770e+00]\n",
            " [ 2.54081586e+00 -1.08324295e+00]\n",
            " [-1.62865764e+00  4.75402524e-01]\n",
            " [-5.44639445e+00  2.02327978e+00]\n",
            " [-2.21713741e+00 -2.38188007e+00]\n",
            " [-1.88880077e+00 -2.21613035e+00]\n",
            " [ 5.47159839e+00  1.51735664e+00]\n",
            " [ 5.71896935e+00  1.77938703e+00]\n",
            " [ 1.21439339e+00 -3.90180089e+00]\n",
            " [-1.10951972e+00 -3.10038781e+00]\n",
            " [ 7.91493841e-02 -3.64486676e+00]\n",
            " [ 5.07276956e+00  2.58901991e+00]\n",
            " [ 4.16583730e+00  3.82003914e-01]\n",
            " [-3.81161619e+00  6.82242585e-01]\n",
            " [ 5.15806933e+00  2.18938472e+00]\n",
            " [-7.05565940e-02 -3.12032063e+00]\n",
            " [ 5.49782271e-01 -2.58183073e+00]\n",
            " [ 4.81777377e-01 -1.94621769e+00]\n",
            " [-9.47271531e-01 -2.69145221e+00]\n",
            " [ 2.47677384e-01 -3.27442224e+00]\n",
            " [-4.66412560e+00  2.10417874e+00]\n",
            " [-2.74657160e+00  1.22618405e+00]\n",
            " [-9.70323535e-01 -2.65613212e+00]\n",
            " [-6.03529447e+00  2.05320991e+00]\n",
            " [ 4.27955550e+00  1.22404709e+00]\n",
            " [-3.56102240e+00  3.64602762e-01]\n",
            " [ 4.63713595e+00  1.25794961e+00]\n",
            " [-4.15399940e+00  2.34532649e-01]\n",
            " [-3.89495884e+00  2.80806973e+00]\n",
            " [-3.85565158e-01 -2.23125362e+00]\n",
            " [-5.10121965e+00  2.19942215e+00]\n",
            " [-1.24482053e+00 -2.87881891e+00]\n",
            " [ 1.40603770e-01 -2.74122412e+00]\n",
            " [-4.94831045e+00  3.60101959e+00]\n",
            " [ 4.18699949e+00  2.39822472e+00]\n",
            " [ 4.12040856e-01 -2.02267161e+00]\n",
            " [-5.09372053e+00  2.90914396e+00]\n",
            " [ 6.06902767e-01  1.48754279e-01]\n",
            " [ 1.18189699e+00 -2.82484745e+00]\n",
            " [-6.04642183e-01 -2.10172486e+00]\n",
            " [ 2.59531823e+00  1.01090918e-01]\n",
            " [-4.19739748e+00  2.13715873e+00]\n",
            " [ 5.12929171e+00  5.84290625e-01]\n",
            " [ 5.73804704e+00  1.40897438e-01]\n",
            " [-6.16151965e+00  3.38985011e+00]\n",
            " [-5.40944408e+00  1.61438995e+00]\n",
            " [ 1.40002502e+00 -2.52898156e+00]\n",
            " [ 4.89726201e+00  2.33040423e+00]\n",
            " [-4.34535646e+00  1.83689601e+00]\n",
            " [-3.87338529e+00  2.00056647e+00]\n",
            " [-3.23778354e-02 -2.60462718e+00]\n",
            " [-3.80595167e-01 -1.77179897e+00]\n",
            " [-3.43965245e+00  2.49051650e-02]\n",
            " [-4.30472611e+00  2.30750404e+00]\n",
            " [-2.82799490e+00  1.02297286e+00]\n",
            " [ 4.24759571e+00  3.48453506e+00]\n",
            " [-1.04157594e+00 -1.35398866e+00]\n",
            " [-4.90243969e+00  1.17493343e+00]\n",
            " [-1.55623962e+00 -2.18578346e+00]\n",
            " [ 3.24771691e+00  1.16098759e+00]\n",
            " [-5.49376373e+00  2.29563008e+00]\n",
            " [-6.66169522e-01 -2.63422660e+00]\n",
            " [ 4.05102186e+00  1.41372952e-01]\n",
            " [ 4.62722563e+00  2.48805918e-03]\n",
            " [-3.73008060e+00  1.55110411e+00]\n",
            " [-3.36731781e+00 -1.33149760e-01]\n",
            " [ 4.14137298e+00  4.82025770e-01]\n",
            " [-4.06277298e+00  2.92750009e+00]\n",
            " [ 4.20381962e+00  9.27890525e-02]\n",
            " [ 2.34299794e-02 -3.76267700e+00]\n",
            " [-3.23283004e+00  1.33740625e+00]\n",
            " [-4.01172391e+00  8.43188286e-01]\n",
            " [-4.84632761e-01 -2.74258911e+00]\n",
            " [-4.34777396e+00  2.21893150e+00]\n",
            " [ 4.44247788e+00  1.96593033e+00]\n",
            " [ 9.98121758e-01 -3.05514439e+00]\n",
            " [ 4.88170752e+00  1.16732643e+00]\n",
            " [-3.70161805e+00  2.40654674e-01]\n",
            " [ 3.43476601e+00  9.77510494e-01]\n",
            " [ 4.31507993e+00  1.75850675e+00]\n",
            " [ 4.73718654e+00  2.26409768e+00]\n",
            " [-3.47148953e+00  9.35839032e-01]\n",
            " [-1.52966148e+00 -3.71309507e+00]\n",
            " [ 4.16342421e-01 -2.95146044e+00]\n",
            " [-6.40748609e-01 -2.42607076e+00]\n",
            " [-1.57941293e-01 -5.76604933e+00]\n",
            " [ 5.05146408e+00  1.89983827e+00]\n",
            " [ 5.60153152e+00  2.87029835e+00]\n",
            " [ 4.72130781e-01 -1.63912574e+00]\n",
            " [ 9.41821351e-01 -1.57478657e+00]\n",
            " [-2.47826253e+00  3.66222939e-02]\n",
            " [-2.19029985e+00 -1.56623624e+00]\n",
            " [ 4.81200781e+00  2.26842207e+00]\n",
            " [ 5.04448985e+00  2.80590850e+00]\n",
            " [-3.72739441e+00  2.30551011e+00]\n",
            " [-4.44451381e+00  2.26536318e+00]\n",
            " [ 2.81222081e+00  1.07814395e+00]\n",
            " [ 3.32507897e-02 -1.94457932e+00]\n",
            " [ 1.36869831e+00 -8.44875564e-01]\n",
            " [ 2.83727687e-01 -3.31942191e+00]\n",
            " [-3.11785783e+00  1.52018276e+00]\n",
            " [-2.11030772e+00  6.65330348e-01]\n",
            " [-4.19830759e+00  1.38813629e+00]\n",
            " [ 1.78310181e+00 -3.79508000e+00]\n",
            " [-8.22863399e-01 -2.68820697e+00]\n",
            " [-1.11343805e-01 -3.65200649e+00]\n",
            " [-4.12626825e+00  7.27352760e-01]\n",
            " [ 4.41071788e+00  3.01534038e+00]]\n"
          ],
          "name": "stdout"
        }
      ]
    },
    {
      "cell_type": "code",
      "metadata": {
        "id": "HQaTsCTEH4Xp",
        "colab_type": "code",
        "colab": {
          "base_uri": "https://localhost:8080/",
          "height": 102
        },
        "outputId": "ca314891-4170-4aa4-9d29-7d288214cfb8"
      },
      "source": [
        "# Fitting Logistic Regression to the Training set\n",
        "from sklearn.linear_model import LogisticRegression\n",
        "classifier = LogisticRegression(random_state = 0)\n",
        "classifier.fit(X_train, y_train)"
      ],
      "execution_count": 32,
      "outputs": [
        {
          "output_type": "execute_result",
          "data": {
            "text/plain": [
              "LogisticRegression(C=1.0, class_weight=None, dual=False, fit_intercept=True,\n",
              "                   intercept_scaling=1, l1_ratio=None, max_iter=100,\n",
              "                   multi_class='auto', n_jobs=None, penalty='l2',\n",
              "                   random_state=0, solver='lbfgs', tol=0.0001, verbose=0,\n",
              "                   warm_start=False)"
            ]
          },
          "metadata": {
            "tags": []
          },
          "execution_count": 32
        }
      ]
    },
    {
      "cell_type": "code",
      "metadata": {
        "id": "AMfiPio0H6yV",
        "colab_type": "code",
        "colab": {
          "base_uri": "https://localhost:8080/",
          "height": 51
        },
        "outputId": "e71f64e8-1449-43aa-abab-8c114b328328"
      },
      "source": [
        "# Predicting the Test set results\n",
        "y_pred = classifier.predict(X_test)\n",
        "print(y_pred)"
      ],
      "execution_count": 33,
      "outputs": [
        {
          "output_type": "stream",
          "text": [
            "[1 3 2 1 2 2 1 3 2 2 3 3 1 2 3 2 1 1 2 1 2 1 1 2 2 2 2 2 2 3 1 1 2 1 1 1 3\n",
            " 2 2 3 1 1 2 2 2]\n"
          ],
          "name": "stdout"
        }
      ]
    },
    {
      "cell_type": "code",
      "metadata": {
        "id": "K3_0wYOzH9OF",
        "colab_type": "code",
        "colab": {
          "base_uri": "https://localhost:8080/",
          "height": 68
        },
        "outputId": "d45c35b0-5404-4c85-d6f7-4e2640735da0"
      },
      "source": [
        "# Making the Confusion Matrix\n",
        "from sklearn.metrics import confusion_matrix\n",
        "cm = confusion_matrix(y_test, y_pred)\n",
        "print(cm)"
      ],
      "execution_count": 34,
      "outputs": [
        {
          "output_type": "stream",
          "text": [
            "[[16  0  0]\n",
            " [ 0 21  0]\n",
            " [ 0  0  8]]\n"
          ],
          "name": "stdout"
        }
      ]
    },
    {
      "cell_type": "code",
      "metadata": {
        "id": "wXOaYS1ZH_jl",
        "colab_type": "code",
        "colab": {
          "base_uri": "https://localhost:8080/",
          "height": 366
        },
        "outputId": "c36b5255-5ccb-40b6-c8db-9c36b1f90f93"
      },
      "source": [
        "# Visualising the Training set results\n",
        "from matplotlib.colors import ListedColormap\n",
        "X_set, y_set = X_train, y_train\n",
        "X1, X2 = np.meshgrid(np.arange(start = X_set[:, 0].min() - 1, stop = X_set[:, 0].max() + 1, step = 0.01),\n",
        "                     np.arange(start = X_set[:, 1].min() - 1, stop = X_set[:, 1].max() + 1, step = 0.01))\n",
        "plt.contourf(X1, X2, classifier.predict(np.array([X1.ravel(), X2.ravel()]).T).reshape(X1.shape),\n",
        "             alpha = 0.75, cmap = ListedColormap(('red', 'green', 'blue')))\n",
        "plt.xlim(X1.min(), X1.max())\n",
        "plt.ylim(X2.min(), X2.max())\n",
        "for i, j in enumerate(np.unique(y_set)):\n",
        "    plt.scatter(X_set[y_set == j, 0], X_set[y_set == j, 1],\n",
        "                c = ListedColormap(('red', 'green', 'blue'))(i), label = j)\n",
        "plt.title('Logistic Regression (Training set)')\n",
        "plt.xlabel('Age')\n",
        "plt.ylabel('Estimated Salary')\n",
        "plt.legend()\n",
        "plt.show()"
      ],
      "execution_count": 35,
      "outputs": [
        {
          "output_type": "stream",
          "text": [
            "'c' argument looks like a single numeric RGB or RGBA sequence, which should be avoided as value-mapping will have precedence in case its length matches with 'x' & 'y'.  Please use a 2-D array with a single row if you really want to specify the same RGB or RGBA value for all points.\n",
            "'c' argument looks like a single numeric RGB or RGBA sequence, which should be avoided as value-mapping will have precedence in case its length matches with 'x' & 'y'.  Please use a 2-D array with a single row if you really want to specify the same RGB or RGBA value for all points.\n",
            "'c' argument looks like a single numeric RGB or RGBA sequence, which should be avoided as value-mapping will have precedence in case its length matches with 'x' & 'y'.  Please use a 2-D array with a single row if you really want to specify the same RGB or RGBA value for all points.\n"
          ],
          "name": "stderr"
        },
        {
          "output_type": "display_data",
          "data": {
            "image/png": "[encoded data removed]",
            "text/plain": [
              "<Figure size 432x288 with 1 Axes>"
            ]
          },
          "metadata": {
            "tags": [],
            "needs_background": "light"
          }
        }
      ]
    },
    {
      "cell_type": "code",
      "metadata": {
        "id": "hT6IALw-IDRu",
        "colab_type": "code",
        "colab": {
          "base_uri": "https://localhost:8080/",
          "height": 366
        },
        "outputId": "c9d147ba-4706-4816-933a-8b276bf4e09f"
      },
      "source": [
        "# Visualising the Test set results\n",
        "from matplotlib.colors import ListedColormap\n",
        "X_set, y_set = X_test, y_test\n",
        "X1, X2 = np.meshgrid(np.arange(start = X_set[:, 0].min() - 1, stop = X_set[:, 0].max() + 1, step = 0.01),\n",
        "                     np.arange(start = X_set[:, 1].min() - 1, stop = X_set[:, 1].max() + 1, step = 0.01))\n",
        "plt.contourf(X1, X2, classifier.predict(np.array([X1.ravel(), X2.ravel()]).T).reshape(X1.shape),\n",
        "             alpha = 0.75, cmap = ListedColormap(('red', 'green', 'blue')))\n",
        "plt.xlim(X1.min(), X1.max())\n",
        "plt.ylim(X2.min(), X2.max())\n",
        "for i, j in enumerate(np.unique(y_set)):\n",
        "    plt.scatter(X_set[y_set == j, 0], X_set[y_set == j, 1],\n",
        "                c = ListedColormap(('red', 'green', 'blue'))(i), label = j)\n",
        "plt.title('Logistic Regression (Test set)')\n",
        "plt.xlabel('Age')\n",
        "plt.ylabel('Estimated Salary')\n",
        "plt.legend()\n",
        "plt.show()\n"
      ],
      "execution_count": 36,
      "outputs": [
        {
          "output_type": "stream",
          "text": [
            "'c' argument looks like a single numeric RGB or RGBA sequence, which should be avoided as value-mapping will have precedence in case its length matches with 'x' & 'y'.  Please use a 2-D array with a single row if you really want to specify the same RGB or RGBA value for all points.\n",
            "'c' argument looks like a single numeric RGB or RGBA sequence, which should be avoided as value-mapping will have precedence in case its length matches with 'x' & 'y'.  Please use a 2-D array with a single row if you really want to specify the same RGB or RGBA value for all points.\n",
            "'c' argument looks like a single numeric RGB or RGBA sequence, which should be avoided as value-mapping will have precedence in case its length matches with 'x' & 'y'.  Please use a 2-D array with a single row if you really want to specify the same RGB or RGBA value for all points.\n"
          ],
          "name": "stderr"
        },
        {
          "output_type": "display_data",
          "data": {
            "image/png": "[encoded data removed]",
            "text/plain": [
              "<Figure size 432x288 with 1 Axes>"
            ]
          },
          "metadata": {
            "tags": [],
            "needs_background": "light"
          }
        }
      ]
    }
  ]
}